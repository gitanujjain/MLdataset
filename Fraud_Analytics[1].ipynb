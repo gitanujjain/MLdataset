{
  "cells": [
    {
      "cell_type": "code",
      "execution_count": 1,
      "metadata": {
        "id": "R1iG0kWG9t2V"
      },
      "outputs": [],
      "source": [
        "import datetime\n",
        "import warnings\n",
        "import numpy as np\n",
        "import pandas as pd\n",
        "import seaborn as sns\n",
        "from datetime import date\n",
        "import sklearn.exceptions\n",
        "%matplotlib inline\n",
        "sns.set_style(\"whitegrid\")"
      ]
    },
    {
      "cell_type": "code",
      "execution_count": 2,
      "metadata": {
        "id": "l_cn0z6VhoGT"
      },
      "outputs": [],
      "source": [
        "train=pd.read_csv(\"fraudTrain.csv\")\n",
        "test=pd.read_csv(\"fraudTest.csv\")"
      ]
    },
    {
      "cell_type": "code",
      "execution_count": 3,
      "metadata": {
        "id": "2ds5SZwiiQea"
      },
      "outputs": [],
      "source": [
        "\n",
        "import matplotlib.pyplot as plt\n",
        "from sklearn import *\n",
        "\n",
        "warnings.filterwarnings(\"ignore\", category=sklearn.exceptions.UndefinedMetricWarning)\n"
      ]
    },
    {
      "cell_type": "code",
      "execution_count": 4,
      "metadata": {
        "colab": {
          "base_uri": "https://localhost:8080/"
        },
        "id": "A1OtW1ALjZT9",
        "outputId": "2d3ee516-3dfa-4911-9a24-74bff8847002"
      },
      "outputs": [
        {
          "name": "stdout",
          "output_type": "stream",
          "text": [
            "<class 'pandas.core.frame.DataFrame'>\n",
            "RangeIndex: 1296675 entries, 0 to 1296674\n",
            "Data columns (total 23 columns):\n",
            " #   Column                 Non-Null Count    Dtype  \n",
            "---  ------                 --------------    -----  \n",
            " 0   Unnamed: 0             1296675 non-null  int64  \n",
            " 1   trans_date_trans_time  1296675 non-null  object \n",
            " 2   cc_num                 1296675 non-null  int64  \n",
            " 3   merchant               1296675 non-null  object \n",
            " 4   category               1296675 non-null  object \n",
            " 5   amt                    1296675 non-null  float64\n",
            " 6   first                  1296675 non-null  object \n",
            " 7   last                   1296675 non-null  object \n",
            " 8   gender                 1296675 non-null  object \n",
            " 9   street                 1296675 non-null  object \n",
            " 10  city                   1296675 non-null  object \n",
            " 11  state                  1296675 non-null  object \n",
            " 12  zip                    1296675 non-null  int64  \n",
            " 13  lat                    1296675 non-null  float64\n",
            " 14  long                   1296675 non-null  float64\n",
            " 15  city_pop               1296675 non-null  int64  \n",
            " 16  job                    1296675 non-null  object \n",
            " 17  dob                    1296675 non-null  object \n",
            " 18  trans_num              1296675 non-null  object \n",
            " 19  unix_time              1296675 non-null  int64  \n",
            " 20  merch_lat              1296675 non-null  float64\n",
            " 21  merch_long             1296675 non-null  float64\n",
            " 22  is_fraud               1296675 non-null  int64  \n",
            "dtypes: float64(5), int64(6), object(12)\n",
            "memory usage: 227.5+ MB\n"
          ]
        }
      ],
      "source": [
        "train.info()"
      ]
    },
    {
      "cell_type": "code",
      "execution_count": 5,
      "metadata": {
        "colab": {
          "base_uri": "https://localhost:8080/"
        },
        "id": "4qOEK6b8jgRs",
        "outputId": "dbcff077-008d-4a81-dce9-a1f178d2bd54"
      },
      "outputs": [
        {
          "name": "stdout",
          "output_type": "stream",
          "text": [
            "<class 'pandas.core.frame.DataFrame'>\n",
            "RangeIndex: 555719 entries, 0 to 555718\n",
            "Data columns (total 23 columns):\n",
            " #   Column                 Non-Null Count   Dtype  \n",
            "---  ------                 --------------   -----  \n",
            " 0   Unnamed: 0             555719 non-null  int64  \n",
            " 1   trans_date_trans_time  555719 non-null  object \n",
            " 2   cc_num                 555719 non-null  int64  \n",
            " 3   merchant               555719 non-null  object \n",
            " 4   category               555719 non-null  object \n",
            " 5   amt                    555719 non-null  float64\n",
            " 6   first                  555719 non-null  object \n",
            " 7   last                   555719 non-null  object \n",
            " 8   gender                 555719 non-null  object \n",
            " 9   street                 555719 non-null  object \n",
            " 10  city                   555719 non-null  object \n",
            " 11  state                  555719 non-null  object \n",
            " 12  zip                    555719 non-null  int64  \n",
            " 13  lat                    555719 non-null  float64\n",
            " 14  long                   555719 non-null  float64\n",
            " 15  city_pop               555719 non-null  int64  \n",
            " 16  job                    555719 non-null  object \n",
            " 17  dob                    555719 non-null  object \n",
            " 18  trans_num              555719 non-null  object \n",
            " 19  unix_time              555719 non-null  int64  \n",
            " 20  merch_lat              555719 non-null  float64\n",
            " 21  merch_long             555719 non-null  float64\n",
            " 22  is_fraud               555719 non-null  int64  \n",
            "dtypes: float64(5), int64(6), object(12)\n",
            "memory usage: 97.5+ MB\n"
          ]
        }
      ],
      "source": [
        "test.info()"
      ]
    },
    {
      "cell_type": "code",
      "execution_count": 6,
      "metadata": {
        "colab": {
          "base_uri": "https://localhost:8080/"
        },
        "id": "FaS-OoZIjjdS",
        "outputId": "f5aba9de-66c8-45b8-acae-752ce96c0903"
      },
      "outputs": [
        {
          "name": "stdout",
          "output_type": "stream",
          "text": [
            "(129668, 23) (27786, 23)\n"
          ]
        }
      ],
      "source": [
        "df_train= train.sample(frac = 0.1,random_state=1)\n",
        "df_test= test.sample(frac = 0.05,random_state=1)\n",
        "print(df_train.shape,df_test.shape)"
      ]
    },
    {
      "cell_type": "code",
      "execution_count": 7,
      "metadata": {
        "id": "6DS7u83vmH30"
      },
      "outputs": [],
      "source": [
        "def dropCol(data):\n",
        "    col_to_drop = ['trans_date_trans_time','Unnamed: 0','cc_num','first','last','trans_num']\n",
        "    res = data.drop(col_to_drop,axis = 1)\n",
        "    return res"
      ]
    },
    {
      "cell_type": "code",
      "execution_count": 8,
      "metadata": {
        "colab": {
          "base_uri": "https://localhost:8080/"
        },
        "id": "I3clY94cm7eU",
        "outputId": "c444fdd2-ec45-4f26-ec65-65cf186a0f1a"
      },
      "outputs": [
        {
          "name": "stdout",
          "output_type": "stream",
          "text": [
            "(129668, 17) (27786, 17)\n"
          ]
        }
      ],
      "source": [
        "df_train = dropCol(df_train)\n",
        "# test data set\n",
        "df_test = dropCol(df_test)\n",
        "\n",
        "print ( df_train.shape, df_test.shape)"
      ]
    },
    {
      "cell_type": "code",
      "execution_count": 9,
      "metadata": {
        "colab": {
          "base_uri": "https://localhost:8080/",
          "height": 842
        },
        "id": "_je-K8GDlFCE",
        "outputId": "265294a9-8fca-47b9-d253-792859fb53d7"
      },
      "outputs": [
        {
          "data": {
            "text/html": [
              "<div>\n",
              "<style scoped>\n",
              "    .dataframe tbody tr th:only-of-type {\n",
              "        vertical-align: middle;\n",
              "    }\n",
              "\n",
              "    .dataframe tbody tr th {\n",
              "        vertical-align: top;\n",
              "    }\n",
              "\n",
              "    .dataframe thead th {\n",
              "        text-align: right;\n",
              "    }\n",
              "</style>\n",
              "<table border=\"1\" class=\"dataframe\">\n",
              "  <thead>\n",
              "    <tr style=\"text-align: right;\">\n",
              "      <th></th>\n",
              "      <th>merchant</th>\n",
              "      <th>category</th>\n",
              "      <th>amt</th>\n",
              "      <th>gender</th>\n",
              "      <th>street</th>\n",
              "      <th>city</th>\n",
              "      <th>state</th>\n",
              "      <th>zip</th>\n",
              "      <th>lat</th>\n",
              "      <th>long</th>\n",
              "      <th>city_pop</th>\n",
              "      <th>job</th>\n",
              "      <th>dob</th>\n",
              "      <th>unix_time</th>\n",
              "      <th>merch_lat</th>\n",
              "      <th>merch_long</th>\n",
              "      <th>is_fraud</th>\n",
              "    </tr>\n",
              "  </thead>\n",
              "  <tbody>\n",
              "    <tr>\n",
              "      <th>475633</th>\n",
              "      <td>fraud_Goodwin-Nitzsche</td>\n",
              "      <td>grocery_pos</td>\n",
              "      <td>88.66</td>\n",
              "      <td>M</td>\n",
              "      <td>8088 Sherman Radial Suite 689</td>\n",
              "      <td>Helm</td>\n",
              "      <td>CA</td>\n",
              "      <td>93627</td>\n",
              "      <td>36.4992</td>\n",
              "      <td>-120.0936</td>\n",
              "      <td>123</td>\n",
              "      <td>Early years teacher</td>\n",
              "      <td>1973-02-07</td>\n",
              "      <td>1343458823</td>\n",
              "      <td>35.801259</td>\n",
              "      <td>-119.096589</td>\n",
              "      <td>0</td>\n",
              "    </tr>\n",
              "    <tr>\n",
              "      <th>1004973</th>\n",
              "      <td>fraud_Schoen, Nienow and Bauch</td>\n",
              "      <td>personal_care</td>\n",
              "      <td>14.65</td>\n",
              "      <td>M</td>\n",
              "      <td>4440 George Mills Suite 591</td>\n",
              "      <td>Dallas</td>\n",
              "      <td>TX</td>\n",
              "      <td>75210</td>\n",
              "      <td>32.7699</td>\n",
              "      <td>-96.7430</td>\n",
              "      <td>1263321</td>\n",
              "      <td>Television camera operator</td>\n",
              "      <td>1942-11-24</td>\n",
              "      <td>1361051870</td>\n",
              "      <td>33.340349</td>\n",
              "      <td>-96.769406</td>\n",
              "      <td>0</td>\n",
              "    </tr>\n",
              "    <tr>\n",
              "      <th>1022980</th>\n",
              "      <td>fraud_Monahan-Morar</td>\n",
              "      <td>personal_care</td>\n",
              "      <td>12.76</td>\n",
              "      <td>M</td>\n",
              "      <td>329 Michael Extension</td>\n",
              "      <td>Lawrence</td>\n",
              "      <td>MA</td>\n",
              "      <td>1843</td>\n",
              "      <td>42.6911</td>\n",
              "      <td>-71.1605</td>\n",
              "      <td>76383</td>\n",
              "      <td>Geoscientist</td>\n",
              "      <td>1985-04-04</td>\n",
              "      <td>1361988337</td>\n",
              "      <td>43.265115</td>\n",
              "      <td>-70.940484</td>\n",
              "      <td>0</td>\n",
              "    </tr>\n",
              "    <tr>\n",
              "      <th>1034220</th>\n",
              "      <td>fraud_Hermann-Gaylord</td>\n",
              "      <td>misc_pos</td>\n",
              "      <td>36.86</td>\n",
              "      <td>M</td>\n",
              "      <td>231 Flores Pass Suite 720</td>\n",
              "      <td>Edinburg</td>\n",
              "      <td>VA</td>\n",
              "      <td>22824</td>\n",
              "      <td>38.8432</td>\n",
              "      <td>-78.6003</td>\n",
              "      <td>6018</td>\n",
              "      <td>Designer, multimedia</td>\n",
              "      <td>1947-08-21</td>\n",
              "      <td>1362389281</td>\n",
              "      <td>39.830320</td>\n",
              "      <td>-77.735115</td>\n",
              "      <td>0</td>\n",
              "    </tr>\n",
              "    <tr>\n",
              "      <th>239781</th>\n",
              "      <td>fraud_Jones, Sawayn and Romaguera</td>\n",
              "      <td>misc_net</td>\n",
              "      <td>8.91</td>\n",
              "      <td>F</td>\n",
              "      <td>302 Christina Islands</td>\n",
              "      <td>Smiths Grove</td>\n",
              "      <td>KY</td>\n",
              "      <td>42171</td>\n",
              "      <td>37.0581</td>\n",
              "      <td>-86.1938</td>\n",
              "      <td>6841</td>\n",
              "      <td>Therapist, sports</td>\n",
              "      <td>1999-06-06</td>\n",
              "      <td>1335741793</td>\n",
              "      <td>37.610153</td>\n",
              "      <td>-86.018512</td>\n",
              "      <td>0</td>\n",
              "    </tr>\n",
              "    <tr>\n",
              "      <th>...</th>\n",
              "      <td>...</td>\n",
              "      <td>...</td>\n",
              "      <td>...</td>\n",
              "      <td>...</td>\n",
              "      <td>...</td>\n",
              "      <td>...</td>\n",
              "      <td>...</td>\n",
              "      <td>...</td>\n",
              "      <td>...</td>\n",
              "      <td>...</td>\n",
              "      <td>...</td>\n",
              "      <td>...</td>\n",
              "      <td>...</td>\n",
              "      <td>...</td>\n",
              "      <td>...</td>\n",
              "      <td>...</td>\n",
              "      <td>...</td>\n",
              "    </tr>\n",
              "    <tr>\n",
              "      <th>944454</th>\n",
              "      <td>fraud_Reichert-Weissnat</td>\n",
              "      <td>travel</td>\n",
              "      <td>5.83</td>\n",
              "      <td>F</td>\n",
              "      <td>6911 Nicholas Keys Apt. 237</td>\n",
              "      <td>Armagh</td>\n",
              "      <td>PA</td>\n",
              "      <td>15920</td>\n",
              "      <td>40.4603</td>\n",
              "      <td>-79.0097</td>\n",
              "      <td>922</td>\n",
              "      <td>Early years teacher</td>\n",
              "      <td>1972-10-04</td>\n",
              "      <td>1358007774</td>\n",
              "      <td>40.522369</td>\n",
              "      <td>-79.314668</td>\n",
              "      <td>0</td>\n",
              "    </tr>\n",
              "    <tr>\n",
              "      <th>23683</th>\n",
              "      <td>fraud_Baumbach, Strosin and Nicolas</td>\n",
              "      <td>shopping_pos</td>\n",
              "      <td>1.96</td>\n",
              "      <td>F</td>\n",
              "      <td>27479 Reeves Dale</td>\n",
              "      <td>Whaleyville</td>\n",
              "      <td>MD</td>\n",
              "      <td>21872</td>\n",
              "      <td>38.4121</td>\n",
              "      <td>-75.2811</td>\n",
              "      <td>718</td>\n",
              "      <td>Regulatory affairs officer</td>\n",
              "      <td>1985-03-19</td>\n",
              "      <td>1326572609</td>\n",
              "      <td>38.534192</td>\n",
              "      <td>-76.161654</td>\n",
              "      <td>0</td>\n",
              "    </tr>\n",
              "    <tr>\n",
              "      <th>296375</th>\n",
              "      <td>fraud_Lubowitz-Walter</td>\n",
              "      <td>kids_pets</td>\n",
              "      <td>26.59</td>\n",
              "      <td>F</td>\n",
              "      <td>72966 Shannon Pass Apt. 391</td>\n",
              "      <td>Bauxite</td>\n",
              "      <td>AR</td>\n",
              "      <td>72011</td>\n",
              "      <td>34.5091</td>\n",
              "      <td>-92.4828</td>\n",
              "      <td>4074</td>\n",
              "      <td>Scientist, audiological</td>\n",
              "      <td>1975-12-20</td>\n",
              "      <td>1337963080</td>\n",
              "      <td>35.175647</td>\n",
              "      <td>-91.740062</td>\n",
              "      <td>0</td>\n",
              "    </tr>\n",
              "    <tr>\n",
              "      <th>306312</th>\n",
              "      <td>fraud_Runolfsdottir, Mueller and Hand</td>\n",
              "      <td>entertainment</td>\n",
              "      <td>6.00</td>\n",
              "      <td>M</td>\n",
              "      <td>3283 James Station</td>\n",
              "      <td>Fayetteville</td>\n",
              "      <td>NC</td>\n",
              "      <td>28314</td>\n",
              "      <td>35.0583</td>\n",
              "      <td>-79.0080</td>\n",
              "      <td>238602</td>\n",
              "      <td>Scientist, research (maths)</td>\n",
              "      <td>1993-05-14</td>\n",
              "      <td>1338216727</td>\n",
              "      <td>34.360264</td>\n",
              "      <td>-78.128199</td>\n",
              "      <td>0</td>\n",
              "    </tr>\n",
              "    <tr>\n",
              "      <th>1171139</th>\n",
              "      <td>fraud_Boehm, Predovic and Reinger</td>\n",
              "      <td>misc_pos</td>\n",
              "      <td>44.70</td>\n",
              "      <td>M</td>\n",
              "      <td>8415 Vaughn Squares Apt. 788</td>\n",
              "      <td>Acworth</td>\n",
              "      <td>NH</td>\n",
              "      <td>3601</td>\n",
              "      <td>43.1960</td>\n",
              "      <td>-72.3001</td>\n",
              "      <td>477</td>\n",
              "      <td>Naval architect</td>\n",
              "      <td>1988-04-15</td>\n",
              "      <td>1367637527</td>\n",
              "      <td>44.156195</td>\n",
              "      <td>-73.285582</td>\n",
              "      <td>0</td>\n",
              "    </tr>\n",
              "  </tbody>\n",
              "</table>\n",
              "<p>100 rows × 17 columns</p>\n",
              "</div>"
            ],
            "text/plain": [
              "                                      merchant       category    amt gender  \\\n",
              "475633                  fraud_Goodwin-Nitzsche    grocery_pos  88.66      M   \n",
              "1004973         fraud_Schoen, Nienow and Bauch  personal_care  14.65      M   \n",
              "1022980                    fraud_Monahan-Morar  personal_care  12.76      M   \n",
              "1034220                  fraud_Hermann-Gaylord       misc_pos  36.86      M   \n",
              "239781       fraud_Jones, Sawayn and Romaguera       misc_net   8.91      F   \n",
              "...                                        ...            ...    ...    ...   \n",
              "944454                 fraud_Reichert-Weissnat         travel   5.83      F   \n",
              "23683      fraud_Baumbach, Strosin and Nicolas   shopping_pos   1.96      F   \n",
              "296375                   fraud_Lubowitz-Walter      kids_pets  26.59      F   \n",
              "306312   fraud_Runolfsdottir, Mueller and Hand  entertainment   6.00      M   \n",
              "1171139      fraud_Boehm, Predovic and Reinger       misc_pos  44.70      M   \n",
              "\n",
              "                                street          city state    zip      lat  \\\n",
              "475633   8088 Sherman Radial Suite 689          Helm    CA  93627  36.4992   \n",
              "1004973    4440 George Mills Suite 591        Dallas    TX  75210  32.7699   \n",
              "1022980          329 Michael Extension      Lawrence    MA   1843  42.6911   \n",
              "1034220      231 Flores Pass Suite 720      Edinburg    VA  22824  38.8432   \n",
              "239781           302 Christina Islands  Smiths Grove    KY  42171  37.0581   \n",
              "...                                ...           ...   ...    ...      ...   \n",
              "944454     6911 Nicholas Keys Apt. 237        Armagh    PA  15920  40.4603   \n",
              "23683                27479 Reeves Dale   Whaleyville    MD  21872  38.4121   \n",
              "296375     72966 Shannon Pass Apt. 391       Bauxite    AR  72011  34.5091   \n",
              "306312              3283 James Station  Fayetteville    NC  28314  35.0583   \n",
              "1171139   8415 Vaughn Squares Apt. 788       Acworth    NH   3601  43.1960   \n",
              "\n",
              "             long  city_pop                          job         dob  \\\n",
              "475633  -120.0936       123          Early years teacher  1973-02-07   \n",
              "1004973  -96.7430   1263321   Television camera operator  1942-11-24   \n",
              "1022980  -71.1605     76383                 Geoscientist  1985-04-04   \n",
              "1034220  -78.6003      6018         Designer, multimedia  1947-08-21   \n",
              "239781   -86.1938      6841            Therapist, sports  1999-06-06   \n",
              "...           ...       ...                          ...         ...   \n",
              "944454   -79.0097       922          Early years teacher  1972-10-04   \n",
              "23683    -75.2811       718   Regulatory affairs officer  1985-03-19   \n",
              "296375   -92.4828      4074      Scientist, audiological  1975-12-20   \n",
              "306312   -79.0080    238602  Scientist, research (maths)  1993-05-14   \n",
              "1171139  -72.3001       477              Naval architect  1988-04-15   \n",
              "\n",
              "          unix_time  merch_lat  merch_long  is_fraud  \n",
              "475633   1343458823  35.801259 -119.096589         0  \n",
              "1004973  1361051870  33.340349  -96.769406         0  \n",
              "1022980  1361988337  43.265115  -70.940484         0  \n",
              "1034220  1362389281  39.830320  -77.735115         0  \n",
              "239781   1335741793  37.610153  -86.018512         0  \n",
              "...             ...        ...         ...       ...  \n",
              "944454   1358007774  40.522369  -79.314668         0  \n",
              "23683    1326572609  38.534192  -76.161654         0  \n",
              "296375   1337963080  35.175647  -91.740062         0  \n",
              "306312   1338216727  34.360264  -78.128199         0  \n",
              "1171139  1367637527  44.156195  -73.285582         0  \n",
              "\n",
              "[100 rows x 17 columns]"
            ]
          },
          "execution_count": 9,
          "metadata": {},
          "output_type": "execute_result"
        }
      ],
      "source": [
        "df_train.tail(100)"
      ]
    },
    {
      "cell_type": "code",
      "execution_count": 10,
      "metadata": {
        "colab": {
          "base_uri": "https://localhost:8080/"
        },
        "id": "r73qMq-dj0SA",
        "outputId": "b368cf93-2585-46b8-b242-8e401374bdf5"
      },
      "outputs": [
        {
          "data": {
            "text/plain": [
              "merchant      0\n",
              "category      0\n",
              "amt           0\n",
              "gender        0\n",
              "street        0\n",
              "city          0\n",
              "state         0\n",
              "zip           0\n",
              "lat           0\n",
              "long          0\n",
              "city_pop      0\n",
              "job           0\n",
              "dob           0\n",
              "unix_time     0\n",
              "merch_lat     0\n",
              "merch_long    0\n",
              "is_fraud      0\n",
              "dtype: int64"
            ]
          },
          "execution_count": 10,
          "metadata": {},
          "output_type": "execute_result"
        }
      ],
      "source": [
        "df_train.isnull().sum()"
      ]
    },
    {
      "cell_type": "code",
      "execution_count": 11,
      "metadata": {
        "colab": {
          "base_uri": "https://localhost:8080/"
        },
        "id": "Mdol5Pumj493",
        "outputId": "c1487ab2-bf29-4b4e-d359-9087d33f42fd"
      },
      "outputs": [
        {
          "data": {
            "text/plain": [
              "merchant      0\n",
              "category      0\n",
              "amt           0\n",
              "gender        0\n",
              "street        0\n",
              "city          0\n",
              "state         0\n",
              "zip           0\n",
              "lat           0\n",
              "long          0\n",
              "city_pop      0\n",
              "job           0\n",
              "dob           0\n",
              "unix_time     0\n",
              "merch_lat     0\n",
              "merch_long    0\n",
              "is_fraud      0\n",
              "dtype: int64"
            ]
          },
          "execution_count": 11,
          "metadata": {},
          "output_type": "execute_result"
        }
      ],
      "source": [
        "df_test.isnull().sum()"
      ]
    },
    {
      "cell_type": "code",
      "execution_count": 12,
      "metadata": {
        "colab": {
          "base_uri": "https://localhost:8080/",
          "height": 853
        },
        "id": "TQzVDxTRj9Qs",
        "outputId": "2b8ce99b-37c5-4592-d184-e015bb4760f8"
      },
      "outputs": [
        {
          "data": {
            "image/png": "[encoded data removed]",
            "text/plain": [
              "<Figure size 1000x1000 with 9 Axes>"
            ]
          },
          "metadata": {},
          "output_type": "display_data"
        }
      ],
      "source": [
        "df_train.hist(figsize = (10, 10))\n",
        "plt.show()"
      ]
    },
    {
      "cell_type": "code",
      "execution_count": 13,
      "metadata": {
        "colab": {
          "base_uri": "https://localhost:8080/"
        },
        "id": "4lJtLLYRkMG3",
        "outputId": "9f93a865-4d02-48a5-9d80-05e8d4dfd53f"
      },
      "outputs": [
        {
          "name": "stdout",
          "output_type": "stream",
          "text": [
            "Normal cases in train set : 128963 \n",
            "Fraud cases in train set : 705\n",
            "Normal cases in test set : 27656 \n",
            "Fraud cases in test set : 130\n"
          ]
        }
      ],
      "source": [
        "fraud_train = df_train[df_train['is_fraud']==1]\n",
        "normal_train = df_train[df_train['is_fraud']==0]\n",
        "fraud_test = df_test[df_test['is_fraud']==1]\n",
        "normal_test = df_test[df_test['is_fraud']==0]\n",
        "\n",
        "print(\"Normal cases in train set :\",len(df_train)-len(fraud_train),\"\\nFraud cases in train set :\",len(fraud_train))\n",
        "print(\"Normal cases in test set :\",len(df_test)-len(fraud_test),\"\\nFraud cases in test set :\",len(fraud_test))"
      ]
    },
    {
      "cell_type": "code",
      "execution_count": 14,
      "metadata": {
        "colab": {
          "base_uri": "https://localhost:8080/"
        },
        "id": "-SzXIZP1ka-6",
        "outputId": "81befb05-9ac0-4059-857f-aa44432670cd"
      },
      "outputs": [
        {
          "name": "stdout",
          "output_type": "stream",
          "text": [
            "(129668, 16) (129668,) (27786, 16) (27786,)\n"
          ]
        }
      ],
      "source": [
        "#Create independent and Dependent Features\n",
        "columns = df_train.columns.tolist()\n",
        "\n",
        "# removing the dependent feature is_fraud\n",
        "columns = [c for c in columns if c not in [\"is_fraud\"]]\n",
        "\n",
        "X_train = df_train[columns]\n",
        "Y_train = df_train['is_fraud']\n",
        "X_test = df_test[columns]\n",
        "Y_test = df_test['is_fraud']\n",
        "print ( X_train.shape, Y_train.shape,X_test.shape, Y_test.shape)"
      ]
    },
    {
      "cell_type": "code",
      "execution_count": 15,
      "metadata": {
        "colab": {
          "base_uri": "https://localhost:8080/",
          "height": 842
        },
        "id": "2vYd-PdulUNi",
        "outputId": "ee389d14-207f-4bb7-cb2c-69f40db4a269"
      },
      "outputs": [
        {
          "data": {
            "text/html": [
              "<div>\n",
              "<style scoped>\n",
              "    .dataframe tbody tr th:only-of-type {\n",
              "        vertical-align: middle;\n",
              "    }\n",
              "\n",
              "    .dataframe tbody tr th {\n",
              "        vertical-align: top;\n",
              "    }\n",
              "\n",
              "    .dataframe thead th {\n",
              "        text-align: right;\n",
              "    }\n",
              "</style>\n",
              "<table border=\"1\" class=\"dataframe\">\n",
              "  <thead>\n",
              "    <tr style=\"text-align: right;\">\n",
              "      <th></th>\n",
              "      <th>merchant</th>\n",
              "      <th>category</th>\n",
              "      <th>amt</th>\n",
              "      <th>gender</th>\n",
              "      <th>street</th>\n",
              "      <th>city</th>\n",
              "      <th>state</th>\n",
              "      <th>zip</th>\n",
              "      <th>lat</th>\n",
              "      <th>long</th>\n",
              "      <th>city_pop</th>\n",
              "      <th>job</th>\n",
              "      <th>dob</th>\n",
              "      <th>unix_time</th>\n",
              "      <th>merch_lat</th>\n",
              "      <th>merch_long</th>\n",
              "    </tr>\n",
              "  </thead>\n",
              "  <tbody>\n",
              "    <tr>\n",
              "      <th>94102</th>\n",
              "      <td>fraud_Funk Group</td>\n",
              "      <td>grocery_net</td>\n",
              "      <td>20.00</td>\n",
              "      <td>F</td>\n",
              "      <td>31701 Tucker Square Suite 893</td>\n",
              "      <td>Wilton</td>\n",
              "      <td>ND</td>\n",
              "      <td>58579</td>\n",
              "      <td>47.1709</td>\n",
              "      <td>-100.7944</td>\n",
              "      <td>1190</td>\n",
              "      <td>Designer, ceramics/pottery</td>\n",
              "      <td>1948-06-30</td>\n",
              "      <td>1330158280</td>\n",
              "      <td>46.398331</td>\n",
              "      <td>-99.813959</td>\n",
              "    </tr>\n",
              "    <tr>\n",
              "      <th>198791</th>\n",
              "      <td>fraud_Prosacco, Kreiger and Kovacek</td>\n",
              "      <td>home</td>\n",
              "      <td>284.88</td>\n",
              "      <td>F</td>\n",
              "      <td>79209 Gary Dale</td>\n",
              "      <td>Colton</td>\n",
              "      <td>WA</td>\n",
              "      <td>99113</td>\n",
              "      <td>46.5901</td>\n",
              "      <td>-117.1692</td>\n",
              "      <td>761</td>\n",
              "      <td>Chief Marketing Officer</td>\n",
              "      <td>1943-06-30</td>\n",
              "      <td>1334260215</td>\n",
              "      <td>45.687331</td>\n",
              "      <td>-117.488135</td>\n",
              "    </tr>\n",
              "    <tr>\n",
              "      <th>1238587</th>\n",
              "      <td>fraud_Langworth, Boehm and Gulgowski</td>\n",
              "      <td>shopping_net</td>\n",
              "      <td>5.07</td>\n",
              "      <td>F</td>\n",
              "      <td>034 Kimberly Mountains</td>\n",
              "      <td>Brandon</td>\n",
              "      <td>FL</td>\n",
              "      <td>33510</td>\n",
              "      <td>27.9551</td>\n",
              "      <td>-82.2966</td>\n",
              "      <td>79613</td>\n",
              "      <td>Environmental consultant</td>\n",
              "      <td>1978-11-30</td>\n",
              "      <td>1370037053</td>\n",
              "      <td>27.254081</td>\n",
              "      <td>-81.974799</td>\n",
              "    </tr>\n",
              "    <tr>\n",
              "      <th>619078</th>\n",
              "      <td>fraud_Conroy-Emard</td>\n",
              "      <td>food_dining</td>\n",
              "      <td>45.38</td>\n",
              "      <td>F</td>\n",
              "      <td>9345 Spencer Junctions Suite 183</td>\n",
              "      <td>Alpharetta</td>\n",
              "      <td>GA</td>\n",
              "      <td>30009</td>\n",
              "      <td>34.0770</td>\n",
              "      <td>-84.3033</td>\n",
              "      <td>165556</td>\n",
              "      <td>Prison officer</td>\n",
              "      <td>1997-12-27</td>\n",
              "      <td>1348160812</td>\n",
              "      <td>34.551957</td>\n",
              "      <td>-83.374265</td>\n",
              "    </tr>\n",
              "    <tr>\n",
              "      <th>573850</th>\n",
              "      <td>fraud_Adams-Barrows</td>\n",
              "      <td>health_fitness</td>\n",
              "      <td>27.52</td>\n",
              "      <td>M</td>\n",
              "      <td>09419 Lewis Rapids</td>\n",
              "      <td>Bay City</td>\n",
              "      <td>MI</td>\n",
              "      <td>48706</td>\n",
              "      <td>43.6088</td>\n",
              "      <td>-83.9530</td>\n",
              "      <td>67858</td>\n",
              "      <td>Water quality scientist</td>\n",
              "      <td>1995-03-13</td>\n",
              "      <td>1346455370</td>\n",
              "      <td>43.032957</td>\n",
              "      <td>-83.521294</td>\n",
              "    </tr>\n",
              "  </tbody>\n",
              "</table>\n",
              "</div>"
            ],
            "text/plain": [
              "                                     merchant        category     amt gender  \\\n",
              "94102                        fraud_Funk Group     grocery_net   20.00      F   \n",
              "198791    fraud_Prosacco, Kreiger and Kovacek            home  284.88      F   \n",
              "1238587  fraud_Langworth, Boehm and Gulgowski    shopping_net    5.07      F   \n",
              "619078                     fraud_Conroy-Emard     food_dining   45.38      F   \n",
              "573850                    fraud_Adams-Barrows  health_fitness   27.52      M   \n",
              "\n",
              "                                   street        city state    zip      lat  \\\n",
              "94102       31701 Tucker Square Suite 893      Wilton    ND  58579  47.1709   \n",
              "198791                    79209 Gary Dale      Colton    WA  99113  46.5901   \n",
              "1238587            034 Kimberly Mountains     Brandon    FL  33510  27.9551   \n",
              "619078   9345 Spencer Junctions Suite 183  Alpharetta    GA  30009  34.0770   \n",
              "573850                 09419 Lewis Rapids    Bay City    MI  48706  43.6088   \n",
              "\n",
              "             long  city_pop                         job         dob  \\\n",
              "94102   -100.7944      1190  Designer, ceramics/pottery  1948-06-30   \n",
              "198791  -117.1692       761     Chief Marketing Officer  1943-06-30   \n",
              "1238587  -82.2966     79613    Environmental consultant  1978-11-30   \n",
              "619078   -84.3033    165556              Prison officer  1997-12-27   \n",
              "573850   -83.9530     67858     Water quality scientist  1995-03-13   \n",
              "\n",
              "          unix_time  merch_lat  merch_long  \n",
              "94102    1330158280  46.398331  -99.813959  \n",
              "198791   1334260215  45.687331 -117.488135  \n",
              "1238587  1370037053  27.254081  -81.974799  \n",
              "619078   1348160812  34.551957  -83.374265  \n",
              "573850   1346455370  43.032957  -83.521294  "
            ]
          },
          "execution_count": 15,
          "metadata": {},
          "output_type": "execute_result"
        }
      ],
      "source": [
        "X_train.head()"
      ]
    },
    {
      "cell_type": "code",
      "execution_count": 16,
      "metadata": {
        "colab": {
          "base_uri": "https://localhost:8080/"
        },
        "id": "IQCBl9pHlbCW",
        "outputId": "ae0ef1c0-7759-47e1-d455-025ab72701ff"
      },
      "outputs": [
        {
          "data": {
            "text/plain": [
              "(157454, 16)"
            ]
          },
          "execution_count": 16,
          "metadata": {},
          "output_type": "execute_result"
        }
      ],
      "source": [
        "# concanating the test and train data so that number of columns remain the same in both the data sets\n",
        "final_df = pd.concat([X_train,X_test],axis=0)\n",
        "final_df.shape"
      ]
    },
    {
      "cell_type": "code",
      "execution_count": 17,
      "metadata": {
        "colab": {
          "base_uri": "https://localhost:8080/",
          "height": 863
        },
        "id": "MZ7h3QBInPsr",
        "outputId": "0eb9f0b7-2cb7-4863-c9fe-eae72aa36dba"
      },
      "outputs": [
        {
          "data": {
            "text/html": [
              "<div>\n",
              "<style scoped>\n",
              "    .dataframe tbody tr th:only-of-type {\n",
              "        vertical-align: middle;\n",
              "    }\n",
              "\n",
              "    .dataframe tbody tr th {\n",
              "        vertical-align: top;\n",
              "    }\n",
              "\n",
              "    .dataframe thead th {\n",
              "        text-align: right;\n",
              "    }\n",
              "</style>\n",
              "<table border=\"1\" class=\"dataframe\">\n",
              "  <thead>\n",
              "    <tr style=\"text-align: right;\">\n",
              "      <th></th>\n",
              "      <th>merchant</th>\n",
              "      <th>category</th>\n",
              "      <th>amt</th>\n",
              "      <th>gender</th>\n",
              "      <th>street</th>\n",
              "      <th>city</th>\n",
              "      <th>state</th>\n",
              "      <th>zip</th>\n",
              "      <th>lat</th>\n",
              "      <th>long</th>\n",
              "      <th>city_pop</th>\n",
              "      <th>job</th>\n",
              "      <th>dob</th>\n",
              "      <th>unix_time</th>\n",
              "      <th>merch_lat</th>\n",
              "      <th>merch_long</th>\n",
              "    </tr>\n",
              "  </thead>\n",
              "  <tbody>\n",
              "    <tr>\n",
              "      <th>94102</th>\n",
              "      <td>fraud_Funk Group</td>\n",
              "      <td>grocery_net</td>\n",
              "      <td>20.00</td>\n",
              "      <td>F</td>\n",
              "      <td>31701 Tucker Square Suite 893</td>\n",
              "      <td>Wilton</td>\n",
              "      <td>ND</td>\n",
              "      <td>58579</td>\n",
              "      <td>47.1709</td>\n",
              "      <td>-100.7944</td>\n",
              "      <td>1190</td>\n",
              "      <td>Designer, ceramics/pottery</td>\n",
              "      <td>1948-06-30</td>\n",
              "      <td>1330158280</td>\n",
              "      <td>46.398331</td>\n",
              "      <td>-99.813959</td>\n",
              "    </tr>\n",
              "    <tr>\n",
              "      <th>198791</th>\n",
              "      <td>fraud_Prosacco, Kreiger and Kovacek</td>\n",
              "      <td>home</td>\n",
              "      <td>284.88</td>\n",
              "      <td>F</td>\n",
              "      <td>79209 Gary Dale</td>\n",
              "      <td>Colton</td>\n",
              "      <td>WA</td>\n",
              "      <td>99113</td>\n",
              "      <td>46.5901</td>\n",
              "      <td>-117.1692</td>\n",
              "      <td>761</td>\n",
              "      <td>Chief Marketing Officer</td>\n",
              "      <td>1943-06-30</td>\n",
              "      <td>1334260215</td>\n",
              "      <td>45.687331</td>\n",
              "      <td>-117.488135</td>\n",
              "    </tr>\n",
              "    <tr>\n",
              "      <th>1238587</th>\n",
              "      <td>fraud_Langworth, Boehm and Gulgowski</td>\n",
              "      <td>shopping_net</td>\n",
              "      <td>5.07</td>\n",
              "      <td>F</td>\n",
              "      <td>034 Kimberly Mountains</td>\n",
              "      <td>Brandon</td>\n",
              "      <td>FL</td>\n",
              "      <td>33510</td>\n",
              "      <td>27.9551</td>\n",
              "      <td>-82.2966</td>\n",
              "      <td>79613</td>\n",
              "      <td>Environmental consultant</td>\n",
              "      <td>1978-11-30</td>\n",
              "      <td>1370037053</td>\n",
              "      <td>27.254081</td>\n",
              "      <td>-81.974799</td>\n",
              "    </tr>\n",
              "    <tr>\n",
              "      <th>619078</th>\n",
              "      <td>fraud_Conroy-Emard</td>\n",
              "      <td>food_dining</td>\n",
              "      <td>45.38</td>\n",
              "      <td>F</td>\n",
              "      <td>9345 Spencer Junctions Suite 183</td>\n",
              "      <td>Alpharetta</td>\n",
              "      <td>GA</td>\n",
              "      <td>30009</td>\n",
              "      <td>34.0770</td>\n",
              "      <td>-84.3033</td>\n",
              "      <td>165556</td>\n",
              "      <td>Prison officer</td>\n",
              "      <td>1997-12-27</td>\n",
              "      <td>1348160812</td>\n",
              "      <td>34.551957</td>\n",
              "      <td>-83.374265</td>\n",
              "    </tr>\n",
              "    <tr>\n",
              "      <th>573850</th>\n",
              "      <td>fraud_Adams-Barrows</td>\n",
              "      <td>health_fitness</td>\n",
              "      <td>27.52</td>\n",
              "      <td>M</td>\n",
              "      <td>09419 Lewis Rapids</td>\n",
              "      <td>Bay City</td>\n",
              "      <td>MI</td>\n",
              "      <td>48706</td>\n",
              "      <td>43.6088</td>\n",
              "      <td>-83.9530</td>\n",
              "      <td>67858</td>\n",
              "      <td>Water quality scientist</td>\n",
              "      <td>1995-03-13</td>\n",
              "      <td>1346455370</td>\n",
              "      <td>43.032957</td>\n",
              "      <td>-83.521294</td>\n",
              "    </tr>\n",
              "  </tbody>\n",
              "</table>\n",
              "</div>"
            ],
            "text/plain": [
              "                                     merchant        category     amt gender  \\\n",
              "94102                        fraud_Funk Group     grocery_net   20.00      F   \n",
              "198791    fraud_Prosacco, Kreiger and Kovacek            home  284.88      F   \n",
              "1238587  fraud_Langworth, Boehm and Gulgowski    shopping_net    5.07      F   \n",
              "619078                     fraud_Conroy-Emard     food_dining   45.38      F   \n",
              "573850                    fraud_Adams-Barrows  health_fitness   27.52      M   \n",
              "\n",
              "                                   street        city state    zip      lat  \\\n",
              "94102       31701 Tucker Square Suite 893      Wilton    ND  58579  47.1709   \n",
              "198791                    79209 Gary Dale      Colton    WA  99113  46.5901   \n",
              "1238587            034 Kimberly Mountains     Brandon    FL  33510  27.9551   \n",
              "619078   9345 Spencer Junctions Suite 183  Alpharetta    GA  30009  34.0770   \n",
              "573850                 09419 Lewis Rapids    Bay City    MI  48706  43.6088   \n",
              "\n",
              "             long  city_pop                         job         dob  \\\n",
              "94102   -100.7944      1190  Designer, ceramics/pottery  1948-06-30   \n",
              "198791  -117.1692       761     Chief Marketing Officer  1943-06-30   \n",
              "1238587  -82.2966     79613    Environmental consultant  1978-11-30   \n",
              "619078   -84.3033    165556              Prison officer  1997-12-27   \n",
              "573850   -83.9530     67858     Water quality scientist  1995-03-13   \n",
              "\n",
              "          unix_time  merch_lat  merch_long  \n",
              "94102    1330158280  46.398331  -99.813959  \n",
              "198791   1334260215  45.687331 -117.488135  \n",
              "1238587  1370037053  27.254081  -81.974799  \n",
              "619078   1348160812  34.551957  -83.374265  \n",
              "573850   1346455370  43.032957  -83.521294  "
            ]
          },
          "execution_count": 17,
          "metadata": {},
          "output_type": "execute_result"
        }
      ],
      "source": [
        "final_df.head()"
      ]
    },
    {
      "cell_type": "code",
      "execution_count": 18,
      "metadata": {
        "colab": {
          "base_uri": "https://localhost:8080/"
        },
        "id": "jTaW1mibokPy",
        "outputId": "000ab516-8a3a-4a1f-fdb5-f9ddc8c8544f"
      },
      "outputs": [
        {
          "data": {
            "text/plain": [
              "['merchant', 'category', 'gender', 'street', 'city', 'state', 'job', 'dob']"
            ]
          },
          "execution_count": 18,
          "metadata": {},
          "output_type": "execute_result"
        }
      ],
      "source": [
        "categorical_features =[feature for feature in X_train.columns if final_df[feature].dtypes == 'O']\n",
        "categorical_features"
      ]
    },
    {
      "cell_type": "code",
      "execution_count": 19,
      "metadata": {
        "colab": {
          "base_uri": "https://localhost:8080/"
        },
        "id": "R5TaYkq-omhk",
        "outputId": "36d5e236-39c2-4539-89a9-93e68e42f2c0"
      },
      "outputs": [
        {
          "name": "stdout",
          "output_type": "stream",
          "text": [
            "Distinct categories for merchant  are 693\n",
            "Distinct categories for category  are 14\n",
            "Distinct categories for gender  are 2\n",
            "Distinct categories for street  are 957\n",
            "Distinct categories for city  are 872\n",
            "Distinct categories for state  are 51\n",
            "Distinct categories for job  are 486\n",
            "Distinct categories for dob  are 942\n"
          ]
        }
      ],
      "source": [
        "for feature in categorical_features:\n",
        "    print(\"Distinct categories for {}  are {}\".format(feature,len(final_df[feature].unique())))"
      ]
    },
    {
      "cell_type": "code",
      "execution_count": 20,
      "metadata": {
        "id": "_FxT0G87nWA8"
      },
      "outputs": [],
      "source": [
        "# function to convert categorical variables to one hot encoding\n",
        "def category_onehot_multcols(data,multcolumns):\n",
        "    df_final = data\n",
        "    i=0\n",
        "    for fields in multcolumns:\n",
        "        print(fields)\n",
        "        df1=pd.get_dummies(final_df[fields],drop_first=True)\n",
        "        final_df.drop([fields],axis=1,inplace=True)\n",
        "        if i==0:\n",
        "            df_final=df1.copy()\n",
        "        else:\n",
        "            df_final=pd.concat([df_final,df1],axis=1)\n",
        "        i=i+1\n",
        "    df_final=pd.concat([final_df,df_final],axis=1)\n",
        "    return df_final"
      ]
    },
    {
      "cell_type": "code",
      "execution_count": 21,
      "metadata": {
        "colab": {
          "base_uri": "https://localhost:8080/"
        },
        "id": "uUPjv8goofhB",
        "outputId": "a2c114d6-a073-4dd3-9047-c43c746eef18"
      },
      "outputs": [
        {
          "name": "stdout",
          "output_type": "stream",
          "text": [
            "merchant\n",
            "category\n",
            "gender\n",
            "street\n",
            "city\n",
            "state\n",
            "job\n",
            "dob\n"
          ]
        }
      ],
      "source": [
        "final_df = category_onehot_multcols(final_df, categorical_features)"
      ]
    },
    {
      "cell_type": "code",
      "execution_count": 22,
      "metadata": {},
      "outputs": [
        {
          "data": {
            "text/plain": [
              "(157454, 4017)"
            ]
          },
          "execution_count": 22,
          "metadata": {},
          "output_type": "execute_result"
        }
      ],
      "source": [
        "final_df =final_df.loc[:,~final_df.columns.duplicated()]\n",
        "final_df.shape"
      ]
    },
    {
      "cell_type": "code",
      "execution_count": 23,
      "metadata": {},
      "outputs": [
        {
          "name": "stdout",
          "output_type": "stream",
          "text": [
            "(129668, 4017) (27786, 4017)\n"
          ]
        }
      ],
      "source": [
        "# separating the test and training data\n",
        "df_Train=final_df.iloc[:129668,:]\n",
        "df_Test=final_df.iloc[129668:,:]\n",
        "print(df_Train.shape,df_Test.shape)"
      ]
    },
    {
      "cell_type": "code",
      "execution_count": 24,
      "metadata": {},
      "outputs": [
        {
          "name": "stdout",
          "output_type": "stream",
          "text": [
            "is_fraud\n",
            "0    128963\n",
            "1       705\n",
            "Name: count, dtype: int64 \n",
            " is_fraud\n",
            "0    27656\n",
            "1      130\n",
            "Name: count, dtype: int64\n"
          ]
        }
      ],
      "source": [
        "print(Y_train.value_counts(),\"\\n\",Y_test.value_counts())"
      ]
    },
    {
      "cell_type": "code",
      "execution_count": 25,
      "metadata": {},
      "outputs": [
        {
          "name": "stdout",
          "output_type": "stream",
          "text": [
            "(129668, 4017) (27786, 4017) (129668,) (27786,)\n"
          ]
        }
      ],
      "source": [
        "# files ready for testing on models\n",
        "print(df_Train.shape, df_Test.shape, Y_train.shape, Y_test.shape)"
      ]
    },
    {
      "cell_type": "code",
      "execution_count": 26,
      "metadata": {},
      "outputs": [
        {
          "name": "stdout",
          "output_type": "stream",
          "text": [
            "(129668,) (129668, 4017)\n"
          ]
        },
        {
          "data": {
            "text/plain": [
              "(129668, 4018)"
            ]
          },
          "execution_count": 26,
          "metadata": {},
          "output_type": "execute_result"
        }
      ],
      "source": [
        "# adding the dependent feature in the train data set\n",
        "print(Y_train.shape,df_Train.shape)\n",
        "df_train = pd.concat([df_Train,Y_train],axis = 1)\n",
        "df_train.shape"
      ]
    },
    {
      "cell_type": "code",
      "execution_count": 27,
      "metadata": {},
      "outputs": [
        {
          "name": "stdout",
          "output_type": "stream",
          "text": [
            "128963 705\n"
          ]
        },
        {
          "name": "stdout",
          "output_type": "stream",
          "text": [
            "(128963, 4018) (705, 4018)\n"
          ]
        }
      ],
      "source": [
        "# Class count\n",
        "count_class_0, count_class_1 = df_train.is_fraud.value_counts()\n",
        "print(count_class_0, count_class_1)\n",
        "# Divide by class\n",
        "df_class_0 = df_train[df_train['is_fraud'] == 0]\n",
        "df_class_1 = df_train[df_train['is_fraud'] == 1]\n",
        "print(df_class_0.shape,df_class_1.shape)"
      ]
    },
    {
      "cell_type": "code",
      "execution_count": 28,
      "metadata": {},
      "outputs": [
        {
          "name": "stdout",
          "output_type": "stream",
          "text": [
            "Random under-sampling:\n",
            "is_fraud\n",
            "0    705\n",
            "1    705\n",
            "Name: count, dtype: int64\n"
          ]
        }
      ],
      "source": [
        "\n",
        "# Undersample 0-class and concat the DataFrames of both class\n",
        "df_class_0_under = df_class_0.sample(count_class_1)\n",
        "df_train_under_sample = pd.concat([df_class_0_under, df_class_1], axis=0)\n",
        "\n",
        "print('Random under-sampling:')\n",
        "print(df_train_under_sample.is_fraud.value_counts())"
      ]
    },
    {
      "cell_type": "code",
      "execution_count": 29,
      "metadata": {},
      "outputs": [],
      "source": [
        "def print_eval(y_pred,model):\n",
        "    print(\"Training Accuracy: \",model.score(df_Train, Y_train))\n",
        "    print(\"Testing Accuracy: \", model.score(df_Test, Y_test))\n",
        "    cm = sklearn.metrics.confusion_matrix(Y_test, y_pred)\n",
        "    print(cm)\n",
        "    categories = ['Positive','Negative']\n",
        "    group_names = ['True Positive', 'False Negative', 'False Positive', 'True Negative']\n",
        "    group_percentages = ['{0:.2%}'.format(value) for value in cm.flatten() / np.sum(cm)]\n",
        "    labels = [f'{v1} {v2}' for v1, v2 in zip(group_names,group_percentages)]\n",
        "    labels = np.asarray(labels).reshape(2,2)\n",
        "    sns.heatmap(cm, annot = labels, cmap = 'Blues',fmt = '',\n",
        "    xticklabels = categories, yticklabels = categories)\n",
        "    plt.xlabel(\"Predicted values\", fontdict = {'size':14}, labelpad = 10)\n",
        "    plt.ylabel(\"Actual values\" , fontdict = {'size':14}, labelpad = 10)\n",
        "    plt.title (\"Confusion Matrix\", fontdict = {'size':18}, pad = 20)"
      ]
    },
    {
      "cell_type": "code",
      "execution_count": 30,
      "metadata": {},
      "outputs": [
        {
          "name": "stdout",
          "output_type": "stream",
          "text": [
            "Training Accuracy:  0.8615001388160533\n",
            "Testing Accuracy:  0.8644641186208882\n",
            "[[24008  3648]\n",
            " [  118    12]]\n"
          ]
        },
        {
          "data": {
            "image/png": "[encoded data removed]",
            "text/plain": [
              "<Figure size 640x480 with 2 Axes>"
            ]
          },
          "metadata": {},
          "output_type": "display_data"
        }
      ],
      "source": [
        "# training and predictions : Logistic Regression Under Sampling \n",
        "X = df_train_under_sample.drop('is_fraud',axis='columns')\n",
        "y = df_train_under_sample['is_fraud']\n",
        "model_LR_under_sample = sklearn.linear_model.LogisticRegression(random_state=137)\n",
        "model_LR_under_sample.fit(X,y)\n",
        "y_pred = model_LR_under_sample.predict(df_Test)\n",
        "print_eval(y_pred,model_LR_under_sample)"
      ]
    },
    {
      "cell_type": "code",
      "execution_count": 31,
      "metadata": {},
      "outputs": [
        {
          "name": "stdout",
          "output_type": "stream",
          "text": [
            "Training Accuracy:  0.9346176388931733\n",
            "Testing Accuracy:  0.9397178435183186\n",
            "[[25984  1672]\n",
            " [    3   127]]\n"
          ]
        },
        {
          "data": {
            "image/png": "[encoded data removed]",
            "text/plain": [
              "<Figure size 640x480 with 2 Axes>"
            ]
          },
          "metadata": {},
          "output_type": "display_data"
        }
      ],
      "source": [
        "# training and predictions : decision tree Regression Under Sampling\n",
        "decision_tree_model_undersample = sklearn.tree.DecisionTreeClassifier(random_state=137)\n",
        "decision_tree_model_undersample.fit(X,y)\n",
        "y_pred = decision_tree_model_undersample.predict(df_Test)\n",
        "print_eval(y_pred,decision_tree_model_undersample)"
      ]
    },
    {
      "cell_type": "code",
      "execution_count": null,
      "metadata": {},
      "outputs": [],
      "source": []
    }
  ],
  "metadata": {
    "accelerator": "GPU",
    "colab": {
      "gpuType": "T4",
      "provenance": []
    },
    "kernelspec": {
      "display_name": "Python 3",
      "name": "python3"
    },
    "language_info": {
      "codemirror_mode": {
        "name": "ipython",
        "version": 3
      },
      "file_extension": ".py",
      "mimetype": "text/x-python",
      "name": "python",
      "nbconvert_exporter": "python",
      "pygments_lexer": "ipython3",
      "version": "3.11.5"
    }
  },
  "nbformat": 4,
  "nbformat_minor": 0
}
